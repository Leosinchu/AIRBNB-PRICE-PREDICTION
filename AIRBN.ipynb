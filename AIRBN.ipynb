{
 "cells": [
  {
   "cell_type": "code",
   "execution_count": 1,
   "id": "1ac2d39c-1c03-4430-af81-9d91f3dcb669",
   "metadata": {},
   "outputs": [],
   "source": [
    "import pandas as pd\n",
    "import numpy as np\n",
    "\n",
    "# Load dataset\n",
    "df = pd.read_csv(\"train.csv\")\n",
    "\n",
    "# Drop irrelevant columns\n",
    "columns_to_drop = [\n",
    "    'id', 'description', 'name', 'thumbnail_url', 'zipcode', 'amenities',\n",
    "    'first_review', 'last_review', 'host_since', 'host_response_rate'\n",
    "]\n",
    "df = df.drop(columns=columns_to_drop)\n",
    "\n",
    "# Drop rows with missing values in key features\n",
    "df = df.dropna(subset=['review_scores_rating', 'bathrooms', 'bedrooms', 'beds'])\n",
    "\n",
    "# Convert log_price to actual price\n",
    "df['price'] = df['log_price'].apply(lambda x: round(np.exp(x), 2))\n",
    "df = df.drop(columns=['log_price'])\n",
    "\n",
    "# Save cleaned data\n",
    "df.to_csv(\"airbnb_cleaned.csv\", index=False)\n"
   ]
  },
  {
   "cell_type": "code",
   "execution_count": 2,
   "id": "58f68c49-6bb8-4ccd-9139-ef1b710a114b",
   "metadata": {},
   "outputs": [],
   "source": [
    "from sklearn.model_selection import train_test_split\n",
    "from sklearn.linear_model import LinearRegression\n",
    "from sklearn.preprocessing import OneHotEncoder\n",
    "from sklearn.compose import ColumnTransformer\n",
    "from sklearn.pipeline import Pipeline\n",
    "\n",
    "# Select features and target\n",
    "features = [\n",
    "    'city', 'property_type', 'room_type', 'accommodates',\n",
    "    'bathrooms', 'bedrooms', 'beds', 'review_scores_rating'\n",
    "]\n",
    "target = 'price'\n",
    "\n",
    "X = df[features]\n",
    "y = df[target]\n",
    "\n",
    "# Define categorical and numeric columns\n",
    "cat_cols = ['city', 'property_type', 'room_type']\n",
    "num_cols = ['accommodates', 'bathrooms', 'bedrooms', 'beds', 'review_scores_rating']\n",
    "\n",
    "# One-hot encoding for categoricals\n",
    "preprocessor = ColumnTransformer([\n",
    "    ('cat', OneHotEncoder(handle_unknown='ignore'), cat_cols)\n",
    "], remainder='passthrough')\n",
    "\n",
    "# Build pipeline with regression model\n",
    "model = Pipeline(steps=[\n",
    "    ('preprocessor', preprocessor),\n",
    "    ('regressor', LinearRegression())\n",
    "])\n",
    "\n",
    "# Split data\n",
    "X_train, X_test, y_train, y_test = train_test_split(X, y, test_size=0.2, random_state=42)\n",
    "\n",
    "# Train model\n",
    "model.fit(X_train, y_train)\n",
    "\n",
    "# Predict on test set\n",
    "predictions = model.predict(X_test)\n",
    "\n",
    "# Save model predictions to CSV\n",
    "output_df = X_test.copy()\n",
    "output_df['predicted_price'] = predictions.round(2)\n",
    "output_df.to_csv(\"airbnb_predictions.csv\", index=False)\n"
   ]
  },
  {
   "cell_type": "code",
   "execution_count": 3,
   "id": "a3856d95-1a0b-42d9-b8e3-81e80d52b637",
   "metadata": {},
   "outputs": [],
   "source": [
    "df_dashboard = df[['city', 'property_type', 'room_type', 'accommodates',\n",
    "                   'bathrooms', 'bedrooms', 'beds', 'review_scores_rating', 'price']]\n",
    "df_dashboard.to_csv(\"airbnb_tableau_dashboard.csv\", index=False)\n"
   ]
  },
  {
   "cell_type": "code",
   "execution_count": null,
   "id": "c6198bca-a030-488d-b603-4371cfa33af4",
   "metadata": {},
   "outputs": [],
   "source": []
  }
 ],
 "metadata": {
  "kernelspec": {
   "display_name": "Python [conda env:base] *",
   "language": "python",
   "name": "conda-base-py"
  },
  "language_info": {
   "codemirror_mode": {
    "name": "ipython",
    "version": 3
   },
   "file_extension": ".py",
   "mimetype": "text/x-python",
   "name": "python",
   "nbconvert_exporter": "python",
   "pygments_lexer": "ipython3",
   "version": "3.12.7"
  }
 },
 "nbformat": 4,
 "nbformat_minor": 5
}
